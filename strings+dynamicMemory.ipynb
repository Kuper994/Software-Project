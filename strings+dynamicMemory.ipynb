{
  "nbformat": 4,
  "nbformat_minor": 0,
  "metadata": {
    "colab": {
      "private_outputs": true,
      "provenance": [],
      "toc_visible": true,
      "authorship_tag": "ABX9TyPjgfFHVXzeDmlT46mr07ii",
      "include_colab_link": true
    },
    "kernelspec": {
      "name": "python3",
      "display_name": "Python 3"
    },
    "language_info": {
      "name": "python"
    }
  },
  "cells": [
    {
      "cell_type": "markdown",
      "metadata": {
        "id": "view-in-github",
        "colab_type": "text"
      },
      "source": [
        "<a href=\"https://colab.research.google.com/github/raminass/Software-Project/blob/main/strings%2BdynamicMemory.ipynb\" target=\"_parent\"><img src=\"https://colab.research.google.com/assets/colab-badge.svg\" alt=\"Open In Colab\"/></a>"
      ]
    },
    {
      "cell_type": "markdown",
      "source": [
        "# Strings\n",
        "\n",
        "```c\n",
        "char *p = \"abcde\" vs. char s[] = \"abcde\"\n",
        "```\n",
        "\n",
        "![image.png](data:image/png;base64,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)"
      ],
      "metadata": {
        "id": "QVOfJ_7q0H7N"
      }
    },
    {
      "cell_type": "markdown",
      "source": [
        "## Example 1\n",
        "\n",
        "```c\n",
        "char *p = “abcde”\n",
        "printf( “%s %s\\n”, p, p +1 );\n",
        "\n",
        "char s[] = “abcde”\n",
        "/*\tis equivalent to: */\n",
        "char s[] = {‘a’, ‘b’, ‘c’, ‘d’, ‘e’, ‘\\0’};\n"
      ],
      "metadata": {
        "id": "_T_B5YSWANuC"
      }
    },
    {
      "cell_type": "markdown",
      "source": [
        "```c\n",
        "#include <stdio.h>\n",
        "\n",
        "int main() {\n",
        "    char *p = \"abcde\";\n",
        "    printf(\"%s\\n\", p); /* Prints: abcde*/\n",
        "    p[0] = 'x';      /* Undefined behavior! Segmentation fault.*/\n",
        "    printf(\"%s\\n\", p);\n",
        "    return 0;\n",
        "}\n",
        "```\n",
        "\n",
        "```c\n",
        "#include <stdio.h>\n",
        "\n",
        "int main() {\n",
        "    char s[] = \"abcde\";\n",
        "    printf(\"%s\\n\", s); // Prints: abcde\n",
        "    s[0] = 'x';        // Modifies the array.\n",
        "    printf(\"%s\\n\", s); // Prints: xbcde\n",
        "    return 0;\n",
        "}\n",
        "```"
      ],
      "metadata": {
        "id": "G6A4h9SB5cSR"
      }
    },
    {
      "cell_type": "code",
      "source": [
        "# @title\n",
        "%%writefile tmp.c\n",
        "#include <stdio.h>\n",
        "#include <ctype.h>\n",
        "\n",
        "int word_cnt(char *s);\n",
        "\n",
        "int main()\n",
        "{\n",
        "    char str[100];\n",
        "\n",
        "    printf(\"Enter a string: \");\n",
        "    fgets(str, sizeof(str), stdin);\n",
        "\n",
        "    int count = word_cnt(str);\n",
        "\n",
        "    printf(\"The string contains %d words.\\n\", count);\n",
        "\n",
        "    return 0;\n",
        "}\n",
        "\n",
        "int word_cnt(char *s)\n",
        "{\n",
        "    int cnt = 0;\n",
        "    while (*s != '\\0')\n",
        "    {\n",
        "        while (isspace(*s))\n",
        "            ++s;\n",
        "        if (*s != '\\0')\n",
        "        {\n",
        "            ++cnt;\n",
        "            while (!isspace(*s) && *s != '\\0')\n",
        "                ++s;\n",
        "        }\n",
        "    }\n",
        "    return cnt;\n",
        "}"
      ],
      "metadata": {
        "cellView": "form",
        "id": "Onp2P-7vBnTp"
      },
      "execution_count": null,
      "outputs": []
    },
    {
      "cell_type": "code",
      "source": [
        "# @title\n",
        "!gcc tmp.c -o tmp\n",
        "!./tmp"
      ],
      "metadata": {
        "cellView": "form",
        "id": "ZVsSogPLB5rf"
      },
      "execution_count": null,
      "outputs": []
    },
    {
      "cell_type": "markdown",
      "source": [
        "## Strings in the standard library\n",
        "\n",
        "The `<string.h>` library provides functions for handling and manipulating strings in C.\n",
        "\n",
        "```c\n",
        "#include <string.h>\n",
        "\n",
        "char *strcat(char *s1, const char *s2);\n",
        "\n",
        "int strcmp(const char *s1, const char *s2);\n",
        "\n",
        "char *strcpy(char *s1, const char *s2);\n",
        "\n",
        "unsigned strlen(const char *s);\n",
        "```"
      ],
      "metadata": {
        "id": "7ph0c5idreeM"
      }
    },
    {
      "cell_type": "markdown",
      "source": [
        "## An implementation example (1)\n",
        "\n",
        "```c\n",
        "unsigned strlen(const char *s)\n",
        "{\n",
        "    int n = 0;\n",
        "\n",
        "    for (; *s != '\\0'; ++s)\n",
        "        ++n;\n",
        "    return n;\n",
        "}\n",
        "```"
      ],
      "metadata": {
        "id": "d7_7LshOsdYm"
      }
    },
    {
      "cell_type": "code",
      "source": [
        "# @title\n",
        "%%writefile tmp.c\n",
        "#include <stdio.h>\n",
        "#include <string.h>\n",
        "int main()\n",
        "{\n",
        "\n",
        "    char s[] = \"Hello\";\n",
        "    unsigned len = strlen(s);\n",
        "    printf(\"The length of the string is: %u\\n\", len);\n",
        "    return 0;\n",
        "}\n"
      ],
      "metadata": {
        "cellView": "form",
        "id": "IvO6x2DMs94Q"
      },
      "execution_count": null,
      "outputs": []
    },
    {
      "cell_type": "code",
      "source": [
        "# @title\n",
        "!gcc tmp.c -o tmp\n",
        "!./tmp"
      ],
      "metadata": {
        "cellView": "form",
        "id": "M98a-aCmtCUa"
      },
      "execution_count": null,
      "outputs": []
    },
    {
      "cell_type": "markdown",
      "source": [
        "## An implementation example (2)\n",
        "\n",
        "```c\n",
        "char *strcat(char *s1, const char *s2)\n",
        "{\n",
        "    char *p = s1;\n",
        "\n",
        "    while (*p)\n",
        "        ++p;\n",
        "\n",
        "    while (*p++ = *s2++);\n",
        "\n",
        "    return s1;\n",
        "}\n",
        "```\n",
        "\n",
        "**Why Return s1?**"
      ],
      "metadata": {
        "id": "WV84zCcwsr2_"
      }
    },
    {
      "cell_type": "markdown",
      "source": [
        "## String permutations\n",
        "\n",
        "Goal: print all permutations of a given string.\n",
        "\n",
        "Example: “ABC” -> ABC,ACB,BAC,BCA,CAB,CBA\n",
        "\n",
        "Can you think of a recursive solution?\n"
      ],
      "metadata": {
        "id": "fGxqqPEftPo3"
      }
    },
    {
      "cell_type": "markdown",
      "source": [
        "![image.png](data:image/png;base64,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)"
      ],
      "metadata": {
        "id": "Ql5hHfK9tiEW"
      }
    },
    {
      "cell_type": "markdown",
      "source": [
        "## Implementation (swap)\n",
        "\n",
        "```c\n",
        "void swap(char *x, char *y)\n",
        "{\n",
        "    char temp;\n",
        "    temp = *x;\n",
        "    *x = *y;\n",
        "    *y = temp;\n",
        "}\n",
        "```"
      ],
      "metadata": {
        "id": "2F4l5Y0Vtxh_"
      }
    },
    {
      "cell_type": "markdown",
      "source": [
        "## Implementation (recursion)\n",
        "\n",
        "```c\n",
        "void permute(char *a, int l, int r)\n",
        "{\n",
        "    int i;\n",
        "    if (l == r)\n",
        "        printf(\"%s\\n\", a);\n",
        "    else\n",
        "    {\n",
        "        for (i = l; i <= r; i++)\n",
        "        {\n",
        "            swap((a + l), (a + i));\n",
        "            permute(a, l + 1, r);\n",
        "            swap((a + l), (a + i)); // backtrack\n",
        "        }\n",
        "    }\n",
        "}\n",
        "```"
      ],
      "metadata": {
        "id": "nipZJvueuP6b"
      }
    },
    {
      "cell_type": "markdown",
      "source": [
        "## Ragged Arrays\n",
        "\n",
        "```c\n",
        "    char a[2][15] = {\"abc:\", \"a is for apple\"};\n",
        "    char *p[2] = {\"abc:\", \"a is for apple\"};\n",
        "\n",
        "    printf(\"%c%c%c %s %s\\n%c%c%c %s %s\\n\",\n",
        "           a[0][0],\n",
        "           a[0][1], a[0][2], a[0], a[1], p[0][0], p[0][1], p[0][2], p[0], p[1]);\n",
        "\n",
        "```"
      ],
      "metadata": {
        "id": "z1gFa3wXxNZB"
      }
    },
    {
      "cell_type": "code",
      "source": [
        "# @title\n",
        "%%writefile tmp.c\n",
        "#include <stdio.h>\n",
        "int main(void)\n",
        "{\n",
        "    char a[2][15] = {\"abc:\", \"a is for apple\"};\n",
        "    char *p[2] = {\"abc:\", \"a is for apple\"};\n",
        "\n",
        "    printf(\"%c%c%c %s %s\\n%c%c%c %s %s\\n\",\n",
        "           a[0][0],\n",
        "           a[0][1], a[0][2], a[0], a[1], p[0][0], p[0][1], p[0][2], p[0], p[1]);\n",
        "    return 0;\n",
        "}\n"
      ],
      "metadata": {
        "cellView": "form",
        "id": "tk3Fxwp5yWcj"
      },
      "execution_count": null,
      "outputs": []
    },
    {
      "cell_type": "code",
      "source": [
        "# @title\n",
        "!gcc -o tmp tmp.c\n",
        "!./tmp"
      ],
      "metadata": {
        "cellView": "form",
        "id": "6WuKwM5EyaPc"
      },
      "execution_count": null,
      "outputs": []
    },
    {
      "cell_type": "markdown",
      "source": [
        "# Dynamic memory allocation\n",
        "\n",
        "Imagine you're designing a text editor like Notepad:\n",
        "\n",
        "A user starts with an empty file.\n",
        "As they type, the text grows beyond the initial memory allocated."
      ],
      "metadata": {
        "id": "ahrTozIeyfML"
      }
    },
    {
      "cell_type": "markdown",
      "source": [
        "* #include <stdlib.h>\n",
        "* Functions work with void * - should cast  to required type\n",
        "* return NULL on failure – needs checking\n",
        "* size_t is typically unsigned int\n",
        "\n",
        "```c\n",
        "void *calloc(size_t num, size_t size);\n",
        "/*all allocated bytes are initialized to zero*/\n",
        "\n",
        "void *malloc(size_t size);\n",
        "/*no initialization*/\n",
        "\n",
        "void *realloc( void *ptr, size_t new_size )\n",
        "/*The contents will be unchanged in the range from the start of the region up to the minimum of\n",
        "the old and new sizes. If the new size >  the old size, the added memory will not be initialized.*/\n",
        "\n",
        "void free( void *ptr )\n",
        "```"
      ],
      "metadata": {
        "id": "arqGanLQhLEg"
      }
    },
    {
      "cell_type": "markdown",
      "source": [
        "\n",
        "\n",
        "### Key Differences: `malloc` vs `calloc`\n",
        "\n",
        "| **Feature**            | **`malloc`**                              | **`calloc`**                                |\n",
        "|-------------------------|-------------------------------------------|---------------------------------------------|\n",
        "| **Initialization**      | Memory is **not initialized**.           | Memory is **initialized to 0**.            |\n",
        "| **Parameters**          | Takes a single argument (`size`).        | Takes two arguments (`num` and `size`).    |\n",
        "| **Purpose**             | General-purpose memory allocation.       | Suitable for allocating and initializing arrays. |\n",
        "| **Performance**         | Faster, as it skips clearing memory.     | Slightly slower, due to memory initialization. |\n",
        "| **Function Signature**  | `void* malloc(size_t size);`             | `void* calloc(size_t num, size_t size);`   |\n",
        "\n",
        "---\n",
        "\n",
        "### Example:\n",
        "\n",
        "#### Using `malloc`:\n",
        "```c\n",
        "int *arr = (int *)malloc(5 * sizeof(int)); // Allocates memory for 5 integers\n",
        "```\n",
        "\n",
        "#### Using `calloc`:\n",
        "```c\n",
        "int *arr = (int *)calloc(5, sizeof(int)); // Allocates and initializes memory for 5 integers\n",
        "```\n",
        "\n",
        "---\n",
        "\n",
        "### Summary:\n",
        "- Use **`malloc`** when performance is critical, and you’ll initialize the memory manually.\n",
        "- Use **`calloc`** when you need zero-initialized memory (e.g., arrays)."
      ],
      "metadata": {
        "id": "fxUEDhq9pIe2"
      }
    },
    {
      "cell_type": "markdown",
      "source": [
        "## Lexicographical sort\n",
        "\n",
        "```c\n",
        "int main(void)\n",
        "{\n",
        "\tchar   *w[N];\n",
        "\tchar   word[MAXWORD];\n",
        "\tint    n = 0, i = 0;\n",
        "\n",
        "\tfor ( i = 0; scanf(\"%s\", word) == 1; ++i )\n",
        "\t{\n",
        "\t\tif ( i >= N ) {\n",
        "\t\t      printf( “Sorry, at most %d words can be sorted.”, N );\n",
        "\t\t      exit(1);\n",
        "\t\t}\n",
        "\t\tw[i] = (char *)calloc(strlen(word) + 1, sizeof(char));\n",
        "\t\tassert(w[i]!=NULL);\n",
        "\t\tstrcpy(w[i], word);\n",
        "\t}\n",
        "```"
      ],
      "metadata": {
        "id": "ZMdv6HG_mYn1"
      }
    },
    {
      "cell_type": "code",
      "source": [
        "# @title\n",
        "%%writefile tmp.c\n",
        "#include <stdio.h>\n",
        "#include <stdlib.h>\n",
        "#include <string.h>\n",
        "#include <assert.h>\n",
        "\n",
        "#define N 5\n",
        "#define MAXWORD 100\n",
        "void sort_words(char *w[], int n);\n",
        "void swap(char **p, char **q);\n",
        "int main(void)\n",
        "{\n",
        "    char *w[N];\n",
        "    char word[MAXWORD];\n",
        "    int n = 0, i = 0;\n",
        "\n",
        "    for (i = 0; scanf(\"%s\", word) == 1; ++i)\n",
        "    {\n",
        "        if (i >= N)\n",
        "        {\n",
        "            printf(\"Sorry, at most % d words can be sorted.\", N);\n",
        "            exit(1);\n",
        "        }\n",
        "        w[i] = (char *)calloc(strlen(word) + 1, sizeof(char));\n",
        "        assert(w[i] != NULL);\n",
        "        strcpy(w[i], word);\n",
        "    }\n",
        "    n = i;\n",
        "    sort_words(w, n);\n",
        "    printf(\"In sorted order:\\n\");\n",
        "    for (i = 0; i < n; ++i)\n",
        "    {\n",
        "        printf(\"%s\\n\", w[i]);\n",
        "        free(w[i]);\n",
        "    }\n",
        "    return 0;\n",
        "}\n",
        "void sort_words(char *w[], int n)\n",
        "{\n",
        "    int i = 0, j = 0;\n",
        "    for (i = 0; i < n; ++i)\n",
        "        for (j = i + 1; j < n; ++j)\n",
        "            if (strcmp(w[i], w[j]) > 0)\n",
        "                swap(&w[i], &w[j]);\n",
        "}\n",
        "\n",
        "void swap(char **p, char **q)\n",
        "{\n",
        "    char *temp = NULL;\n",
        "    temp = *p;\n",
        "    *p = *q;\n",
        "    *q = temp;\n",
        "}\n"
      ],
      "metadata": {
        "cellView": "form",
        "id": "hZT-Zin_n3GH"
      },
      "execution_count": null,
      "outputs": []
    },
    {
      "cell_type": "code",
      "source": [
        "# @title\n",
        "!gcc -o tmp tmp.c\n",
        "!./tmp"
      ],
      "metadata": {
        "cellView": "form",
        "id": "Qmg2qpmin7vr"
      },
      "execution_count": null,
      "outputs": []
    },
    {
      "cell_type": "markdown",
      "source": [
        "# Multidimensional Arrays\n",
        "\n",
        "```c\n",
        "int a[5][2] = {{1, 2}, {3, 4}, {5, 6}, {7, 8}, {9, 10}};\n",
        "\n",
        "int sum(int a[][2])\n",
        "{\n",
        "    int i = 0, j = 0, sum = 0;\n",
        "\n",
        "    for (i = 0; i < 5; ++i)\n",
        "        for (j = 0; j < 2; ++j)\n",
        "            sum += a[i][j];\n",
        "    return sum;\n",
        "}\n",
        "\n",
        "```"
      ],
      "metadata": {
        "id": "FJbr8MPjkcJj"
      }
    },
    {
      "cell_type": "markdown",
      "source": [
        "```c\n",
        "int a[5][2]={{1,2},{3,4},{5,6},{7,8},{9,10}};\n",
        "\n",
        "a[i][j] is equivalent to *(&a[0][0]+2*i+j)\n",
        "What is **(a+3) ?\n",
        "What is *(a[2]+1) ?\n",
        "```\n",
        "\n",
        "How can we allocate a dynamic 2D array?\n"
      ],
      "metadata": {
        "id": "KGMQjkVxk4qx"
      }
    },
    {
      "cell_type": "code",
      "source": [
        "# @title\n",
        "%%writefile tmp.c\n",
        "#include <stdio.h>\n",
        "\n",
        "int main() {\n",
        "    int a[5][2] = {\n",
        "        {1, 2},\n",
        "        {3, 4},\n",
        "        {5, 6},\n",
        "        {7, 8},\n",
        "        {9, 10}\n",
        "    };\n",
        "\n",
        "    // Demonstrating **(a + 3)\n",
        "    int result1 = **(a + 3); // Access the first element of the 4th row\n",
        "    printf(\"**(a + 3) = %d\\n\", result1);\n",
        "\n",
        "    // Demonstrating *(a[2] + 1)\n",
        "    int result2 = *(a[2] + 1); // Access the second element of the 3rd row\n",
        "    printf(\"*(a[2] + 1) = %d\\n\", result2);\n",
        "\n",
        "    // Verifying using direct indexing\n",
        "    printf(\"a[3][0] = %d (should match **(a + 3))\\n\", a[3][0]);\n",
        "    printf(\"a[2][1] = %d (should match *(a[2] + 1))\\n\", a[2][1]);\n",
        "\n",
        "    return 0;\n",
        "}\n"
      ],
      "metadata": {
        "cellView": "form",
        "id": "8jUBsxujsXxO"
      },
      "execution_count": null,
      "outputs": []
    },
    {
      "cell_type": "code",
      "source": [
        "# @title\n",
        "!gcc -o tmp tmp.c\n",
        "!./tmp"
      ],
      "metadata": {
        "cellView": "form",
        "id": "cUUOdAH6safj"
      },
      "execution_count": null,
      "outputs": []
    },
    {
      "cell_type": "markdown",
      "source": [
        "## Dynamic matrix allocation (I)\n",
        "\n",
        "```c\n",
        "int **a;\n",
        "\n",
        "a = calloc(n, sizeof(int *));\n",
        "for (i = 0; i < n; i++)\n",
        "    a[i] = calloc(n, sizeof(int));\n",
        "```\n",
        "Can we allocate a contiguous block?\n"
      ],
      "metadata": {
        "id": "3SK3mQl3tpOt"
      }
    },
    {
      "cell_type": "markdown",
      "source": [
        "## Dynamic matrix allocation (II)\n",
        "\n",
        "Yes, you can allocate a contiguous block of memory for a 2D array and simulate a 2D pointer array structure. This approach is often preferred for better performance and easier memory management because the entire array is stored in a single block of memory.\n",
        "\n",
        "```c\n",
        "int *p;\n",
        "int **a;\n",
        "\n",
        "p = calloc(n * n, sizeof(int));\n",
        "a = calloc(n, sizeof(int *));\n",
        "for (i = 0; i < n; i++)\n",
        "    a[i] = p + i * n;\n",
        "```"
      ],
      "metadata": {
        "id": "nwimIxHjuO4w"
      }
    },
    {
      "cell_type": "markdown",
      "source": [
        "# Functions as arguments"
      ],
      "metadata": {
        "id": "dA0KMVpvyUGU"
      }
    },
    {
      "cell_type": "markdown",
      "source": [
        "\n",
        "## sum square\n",
        "\n",
        "```c\n",
        "double sum_square(double (*f)(double), int m, int n)\n",
        "{\n",
        "    int k = 0;\n",
        "    double sum = 0.0;\n",
        "\n",
        "    for (k = m; k <= n; ++k)\n",
        "        sum += (*f)(k) * (*f)(k);\n",
        "    return sum;\n",
        "}\n",
        "```"
      ],
      "metadata": {
        "id": "2pfXmsc9usNi"
      }
    },
    {
      "cell_type": "markdown",
      "source": [
        "Is it call by Reference?"
      ],
      "metadata": {
        "id": "dpz7n3VexFO_"
      }
    },
    {
      "cell_type": "code",
      "source": [
        "# @title\n",
        "%%writefile tmp.c\n",
        "#include <stdio.h>\n",
        "#include <math.h>\n",
        "\n",
        "double f(double x);\n",
        "double sum_square(double (*f)(double), int m, int n);\n",
        "\n",
        "int main(void)\n",
        "{\n",
        "    printf(\"First computation: %.7f\\n\", sum_square(sin, 2, 13));\n",
        "    printf(\"Second computation: %.7f\\n\", sum_square(f, 1, 10000));\n",
        "    return 0;\n",
        "}\n",
        "\n",
        "double f(double x)\n",
        "{\n",
        "    return 1.0 / x;\n",
        "}\n",
        "\n",
        "double sum_square(double (*f)(double), int m, int n)\n",
        "{\n",
        "    int k = 0;\n",
        "    double sum = 0.0;\n",
        "\n",
        "    for (k = m; k <= n; ++k)\n",
        "    {\n",
        "        sum += (*f)(k) * (*f)(k);\n",
        "    }\n",
        "    return sum;\n",
        "}\n"
      ],
      "metadata": {
        "cellView": "form",
        "id": "_hFv_ktTwJ3j"
      },
      "execution_count": null,
      "outputs": []
    },
    {
      "cell_type": "code",
      "source": [
        "# @title\n",
        "!gcc -o tmp tmp.c -lm\n",
        "!./tmp"
      ],
      "metadata": {
        "cellView": "form",
        "id": "nfC5Y2ESwNmh"
      },
      "execution_count": null,
      "outputs": []
    },
    {
      "cell_type": "markdown",
      "source": [
        "## Find a root of f()\n",
        "by the bisection method\n",
        "\n",
        "```c\n",
        "#include <stdio.h>\n",
        "double   p(double);\n",
        "double   root(double (*)(double), double, double);\n",
        "\n",
        "int main(void)\n",
        "{\n",
        "\tdouble   x = root( p, 0.0, 3.0 );\n",
        "\tprintf( “%s%.16f\\n%s%.16f\\n”, “Approximate root: ”, x,\n",
        "\t\t\t\t    \t“  Function value:  ”, p( x ) );\n",
        "\treturn 0;\n",
        "}\n",
        "```"
      ],
      "metadata": {
        "id": "7oQE2Bigya4w"
      }
    },
    {
      "cell_type": "code",
      "source": [
        "# @title\n",
        "%%writefile tmp.c\n",
        "#include <stdio.h>\n",
        "#define EPS 1e-12\n",
        "\n",
        "double p(double);\n",
        "double root(double (*)(double), double, double);\n",
        "\n",
        "int main(void)\n",
        "{\n",
        "    double x = root(p, 0.0, 3.0);\n",
        "    printf(\"%s%.16f\\n%s%.16f\\n\", \"Approximate root : \", x,\n",
        "           \" Function value :  \", p(x));\n",
        "    return 0;\n",
        "}\n",
        "double p(double x)\n",
        "{\n",
        "    return (x * x * x * x * x - 7.0 * x - 3.0);\n",
        "}\n",
        "\n",
        "double root(double f(double), double a, double b)\n",
        "{\n",
        "    double m = (a + b) / 2.0;\n",
        "\n",
        "    if (f(m) == 0.0 || b - a < EPS)\n",
        "        return m;\n",
        "    else if (f(a) * f(m) < 0.0)\n",
        "        return root(f, a, m);\n",
        "    else\n",
        "        return root(f, m, b);\n",
        "}\n"
      ],
      "metadata": {
        "cellView": "form",
        "id": "wI9BvLx6zQX1"
      },
      "execution_count": null,
      "outputs": []
    },
    {
      "cell_type": "code",
      "source": [
        "# @title\n",
        "!gcc -o tmp tmp.c\n",
        "!./tmp\n"
      ],
      "metadata": {
        "cellView": "form",
        "id": "gLQtojdKzUOA"
      },
      "execution_count": null,
      "outputs": []
    },
    {
      "cell_type": "markdown",
      "source": [
        "## The qsort function\n",
        "\n",
        "```c\n",
        "qsort's prototype in stdlib.h:\n",
        "\n",
        "void qsort(void *array,\n",
        "           size_t n_elem,\n",
        "           size_t elem_size,\n",
        "           int (*compare)(const void *, const void *));\n",
        "\n",
        "compare(a,b) returns negative int if a<b\n",
        "\t\t\treturns 0 if a=b\n",
        "\t\t\treturns positive int if a>b\n",
        "```"
      ],
      "metadata": {
        "id": "j4G6kMFbz9aB"
      }
    }
  ]
}